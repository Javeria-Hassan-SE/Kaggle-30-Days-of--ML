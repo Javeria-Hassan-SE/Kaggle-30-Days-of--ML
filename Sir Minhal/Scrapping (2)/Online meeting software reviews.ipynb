{
 "cells": [
  {
   "cell_type": "markdown",
   "metadata": {},
   "source": [
    "# Import Libraries"
   ]
  },
  {
   "cell_type": "code",
   "execution_count": 1,
   "metadata": {},
   "outputs": [],
   "source": [
    "import re\n",
    "import nltk \n",
    "import numpy as np\n",
    "import pandas as pd\n",
    "import matplotlib.pyplot as plt\n",
    "import seaborn as sns\n",
    "\n",
    "import csv\n",
    "from textblob import TextBlob\n",
    "\n",
    "from sklearn.model_selection import train_test_split\n",
    "from sklearn.feature_extraction.text import TfidfVectorizer\n",
    "from sklearn.linear_model import PassiveAggressiveClassifier\n",
    "from sklearn.naive_bayes import MultinomialNB\n",
    "from sklearn.ensemble import RandomForestClassifier\n",
    "from sklearn.svm import SVC\n",
    "from sklearn import tree\n",
    "from sklearn import metrics\n",
    "from sklearn.metrics import classification_report\n",
    "from sklearn.metrics import accuracy_score, confusion_matrix\n",
    "from sklearn.metrics import  precision_score, recall_score, f1_score\n",
    "from sklearn.metrics import plot_confusion_matrix"
   ]
  },
  {
   "cell_type": "markdown",
   "metadata": {},
   "source": [
    "# Reading DataSet"
   ]
  },
  {
   "cell_type": "code",
   "execution_count": 2,
   "metadata": {},
   "outputs": [
    {
     "name": "stdout",
     "output_type": "stream",
     "text": [
      "Reviews    0\n",
      "dtype: int64\n",
      "(3979, 1)\n"
     ]
    },
    {
     "data": {
      "text/html": [
       "<div>\n",
       "<style scoped>\n",
       "    .dataframe tbody tr th:only-of-type {\n",
       "        vertical-align: middle;\n",
       "    }\n",
       "\n",
       "    .dataframe tbody tr th {\n",
       "        vertical-align: top;\n",
       "    }\n",
       "\n",
       "    .dataframe thead th {\n",
       "        text-align: right;\n",
       "    }\n",
       "</style>\n",
       "<table border=\"1\" class=\"dataframe\">\n",
       "  <thead>\n",
       "    <tr style=\"text-align: right;\">\n",
       "      <th></th>\n",
       "      <th>Reviews</th>\n",
       "    </tr>\n",
       "  </thead>\n",
       "  <tbody>\n",
       "    <tr>\n",
       "      <th>0</th>\n",
       "      <td>upgrade the app</td>\n",
       "    </tr>\n",
       "    <tr>\n",
       "      <th>1</th>\n",
       "      <td>notification sound not working samsung</td>\n",
       "    </tr>\n",
       "    <tr>\n",
       "      <th>2</th>\n",
       "      <td>dunno why doalways error whensign</td>\n",
       "    </tr>\n",
       "    <tr>\n",
       "      <th>3</th>\n",
       "      <td>will not open</td>\n",
       "    </tr>\n",
       "    <tr>\n",
       "      <th>4</th>\n",
       "      <td>wants access everything talk about spy webb su...</td>\n",
       "    </tr>\n",
       "  </tbody>\n",
       "</table>\n",
       "</div>"
      ],
      "text/plain": [
       "                                             Reviews\n",
       "0                                    upgrade the app\n",
       "1             notification sound not working samsung\n",
       "2                  dunno why doalways error whensign\n",
       "3                                      will not open\n",
       "4  wants access everything talk about spy webb su..."
      ]
     },
     "execution_count": 2,
     "metadata": {},
     "output_type": "execute_result"
    }
   ],
   "source": [
    "df=pd.read_csv(\"data_clean_final.csv\")\n",
    "print(df.isnull().sum())\n",
    "print(df.shape)\n",
    "df.head()"
   ]
  },
  {
   "cell_type": "markdown",
   "metadata": {},
   "source": [
    "# Data Cleaning"
   ]
  },
  {
   "cell_type": "code",
   "execution_count": 3,
   "metadata": {},
   "outputs": [
    {
     "data": {
      "text/plain": [
       "array(['upgrade the app', 'notification sound not working samsung',\n",
       "       'dunno why doalways error whensign', ...,\n",
       "       'used zoom for conferencing with our teams while working outages maintenance windows',\n",
       "       'zoom well suited for organizations that vary all different sizes easily providing streamlined meeting capabilities for users any level iteasier imagine many different scenarios where zoom would work great rather than situations where would not appropriate that being said zoom best suited for organizations that appreciate video capabilities for their meetings',\n",
       "       'zoom well suited cloud video meetings far better experience that current competitors zoom makes easy start joinmeeting from any device'],\n",
       "      dtype=object)"
      ]
     },
     "execution_count": 3,
     "metadata": {},
     "output_type": "execute_result"
    }
   ],
   "source": [
    "features=df.iloc[:,0].values\n",
    "features"
   ]
  },
  {
   "cell_type": "code",
   "execution_count": 20,
   "metadata": {},
   "outputs": [
    {
     "data": {
      "text/html": [
       "<div>\n",
       "<style scoped>\n",
       "    .dataframe tbody tr th:only-of-type {\n",
       "        vertical-align: middle;\n",
       "    }\n",
       "\n",
       "    .dataframe tbody tr th {\n",
       "        vertical-align: top;\n",
       "    }\n",
       "\n",
       "    .dataframe thead th {\n",
       "        text-align: right;\n",
       "    }\n",
       "</style>\n",
       "<table border=\"1\" class=\"dataframe\">\n",
       "  <thead>\n",
       "    <tr style=\"text-align: right;\">\n",
       "      <th></th>\n",
       "      <th>0</th>\n",
       "    </tr>\n",
       "  </thead>\n",
       "  <tbody>\n",
       "    <tr>\n",
       "      <th>0</th>\n",
       "      <td>upgrade the app</td>\n",
       "    </tr>\n",
       "    <tr>\n",
       "      <th>1</th>\n",
       "      <td>notification sound not working samsung</td>\n",
       "    </tr>\n",
       "    <tr>\n",
       "      <th>2</th>\n",
       "      <td>dunno why doalways error whensign</td>\n",
       "    </tr>\n",
       "    <tr>\n",
       "      <th>3</th>\n",
       "      <td>will not open</td>\n",
       "    </tr>\n",
       "    <tr>\n",
       "      <th>4</th>\n",
       "      <td>wants access everything talk about spy webb su...</td>\n",
       "    </tr>\n",
       "    <tr>\n",
       "      <th>...</th>\n",
       "      <td>...</td>\n",
       "    </tr>\n",
       "    <tr>\n",
       "      <th>3974</th>\n",
       "      <td>whenever have carry out follow meetings with c...</td>\n",
       "    </tr>\n",
       "    <tr>\n",
       "      <th>3975</th>\n",
       "      <td>zoom makes easy generate meetings and send the...</td>\n",
       "    </tr>\n",
       "    <tr>\n",
       "      <th>3976</th>\n",
       "      <td>used zoom for conferencing with our teams whil...</td>\n",
       "    </tr>\n",
       "    <tr>\n",
       "      <th>3977</th>\n",
       "      <td>zoom well suited for organizations that vary a...</td>\n",
       "    </tr>\n",
       "    <tr>\n",
       "      <th>3978</th>\n",
       "      <td>zoom well suited cloud video meetings far bett...</td>\n",
       "    </tr>\n",
       "  </tbody>\n",
       "</table>\n",
       "<p>3979 rows × 1 columns</p>\n",
       "</div>"
      ],
      "text/plain": [
       "                                                      0\n",
       "0                                       upgrade the app\n",
       "1                notification sound not working samsung\n",
       "2                     dunno why doalways error whensign\n",
       "3                                         will not open\n",
       "4     wants access everything talk about spy webb su...\n",
       "...                                                 ...\n",
       "3974  whenever have carry out follow meetings with c...\n",
       "3975  zoom makes easy generate meetings and send the...\n",
       "3976  used zoom for conferencing with our teams whil...\n",
       "3977  zoom well suited for organizations that vary a...\n",
       "3978  zoom well suited cloud video meetings far bett...\n",
       "\n",
       "[3979 rows x 1 columns]"
      ]
     },
     "execution_count": 20,
     "metadata": {},
     "output_type": "execute_result"
    }
   ],
   "source": [
    "processed_features = []\n",
    "\n",
    "for sentence in range(0, len(features)):\n",
    "    # Remove all the special characters\n",
    "    processed_feature = re.sub(r'\\W', ' ', str(features[sentence]))\n",
    "\n",
    "    # remove all single characters\n",
    "    processed_feature= re.sub(r'\\s+[a-zA-Z]\\s+', ' ', processed_feature)\n",
    "\n",
    "    #Search for all non-letters Replace all non-letters with spaces\n",
    "    processed_feature = re.sub(\"[^a-zA-Z]\",\" \", str(processed_feature))\n",
    "    \n",
    "    # Remove single characters from the start\n",
    "    processed_feature = re.sub(r'\\^[a-zA-Z]\\s+', ' ', processed_feature) \n",
    "\n",
    "    # Substituting multiple spaces with single space\n",
    "    processed_feature = re.sub(r'\\s+', ' ', processed_feature, flags=re.I)\n",
    "    \n",
    "    shortword = re.compile(r'\\W*\\b\\w{1,2}\\b')\n",
    "    processed_feature=shortword.sub('', processed_feature)\n",
    "\n",
    "    # Removing prefixed 'b'\n",
    "    processed_feature = re.sub(r'^b\\s+', '', processed_feature)\n",
    "\n",
    "    # Converting to Lowercase\n",
    "    processed_feature = processed_feature.lower()\n",
    "\n",
    "    processed_features.append(processed_feature)\n",
    "    \n",
    "df = pd.DataFrame(data=processed_features)\n",
    "df.to_csv('clean_data_2.csv', index=None, header=True)\n",
    "df"
   ]
  },
  {
   "cell_type": "markdown",
   "metadata": {},
   "source": [
    "# Sentiment Analysis\n",
    "Finding Polarity of data & assigning Labels"
   ]
  },
  {
   "cell_type": "code",
   "execution_count": 21,
   "metadata": {},
   "outputs": [],
   "source": [
    "infile = 'clean_data_2.csv'\n",
    "bloblist = list()\n",
    "\n",
    "with open(infile, 'r',encoding='utf-8') as csvfile:\n",
    "    rows = csv.reader(csvfile)\n",
    "\n",
    "    for row in rows:\n",
    "        sentence = row[0]\n",
    "        blob = TextBlob(sentence)\n",
    "        bloblist.append((sentence,blob.sentiment.polarity, blob.sentiment.subjectivity))\n",
    "    \n",
    "df = pd.DataFrame(bloblist, columns = ['Reviews','polarity','subjectivity'])\n",
    "#conditions  = [ df['polarity'] >=0.6, (df['polarity'] <0.6) & (df['polarity'] >0),df['polarity'] ==0,df['polarity'] < 0]\n",
    "conditions  = [ df['polarity'] > 0,df['polarity'] == 0,df['polarity'] < 0]\n",
    "choices     = [ \"positive\",'neutral','negative']\n",
    "\n",
    "df[\"label\"] = np.select(conditions, choices, default=np.nan)\n",
    "df.to_csv('reviews_data_labelled.csv', index=None, header=True)"
   ]
  },
  {
   "cell_type": "code",
   "execution_count": 22,
   "metadata": {},
   "outputs": [
    {
     "data": {
      "text/html": [
       "<div>\n",
       "<style scoped>\n",
       "    .dataframe tbody tr th:only-of-type {\n",
       "        vertical-align: middle;\n",
       "    }\n",
       "\n",
       "    .dataframe tbody tr th {\n",
       "        vertical-align: top;\n",
       "    }\n",
       "\n",
       "    .dataframe thead th {\n",
       "        text-align: right;\n",
       "    }\n",
       "</style>\n",
       "<table border=\"1\" class=\"dataframe\">\n",
       "  <thead>\n",
       "    <tr style=\"text-align: right;\">\n",
       "      <th></th>\n",
       "      <th>Reviews</th>\n",
       "      <th>polarity</th>\n",
       "      <th>subjectivity</th>\n",
       "      <th>label</th>\n",
       "    </tr>\n",
       "  </thead>\n",
       "  <tbody>\n",
       "    <tr>\n",
       "      <th>1</th>\n",
       "      <td>upgrade the app</td>\n",
       "      <td>0.000000</td>\n",
       "      <td>0.000000</td>\n",
       "      <td>neutral</td>\n",
       "    </tr>\n",
       "    <tr>\n",
       "      <th>2</th>\n",
       "      <td>notification sound not working samsung</td>\n",
       "      <td>0.400000</td>\n",
       "      <td>0.400000</td>\n",
       "      <td>positive</td>\n",
       "    </tr>\n",
       "    <tr>\n",
       "      <th>3</th>\n",
       "      <td>dunno why doalways error whensign</td>\n",
       "      <td>0.000000</td>\n",
       "      <td>0.000000</td>\n",
       "      <td>neutral</td>\n",
       "    </tr>\n",
       "    <tr>\n",
       "      <th>4</th>\n",
       "      <td>will not open</td>\n",
       "      <td>0.000000</td>\n",
       "      <td>0.500000</td>\n",
       "      <td>neutral</td>\n",
       "    </tr>\n",
       "    <tr>\n",
       "      <th>5</th>\n",
       "      <td>wants access everything talk about spy webb su...</td>\n",
       "      <td>0.233333</td>\n",
       "      <td>0.662963</td>\n",
       "      <td>positive</td>\n",
       "    </tr>\n",
       "    <tr>\n",
       "      <th>...</th>\n",
       "      <td>...</td>\n",
       "      <td>...</td>\n",
       "      <td>...</td>\n",
       "      <td>...</td>\n",
       "    </tr>\n",
       "    <tr>\n",
       "      <th>3975</th>\n",
       "      <td>whenever have carry out follow meetings with c...</td>\n",
       "      <td>0.100000</td>\n",
       "      <td>0.332143</td>\n",
       "      <td>positive</td>\n",
       "    </tr>\n",
       "    <tr>\n",
       "      <th>3976</th>\n",
       "      <td>zoom makes easy generate meetings and send the...</td>\n",
       "      <td>0.433333</td>\n",
       "      <td>0.833333</td>\n",
       "      <td>positive</td>\n",
       "    </tr>\n",
       "    <tr>\n",
       "      <th>3977</th>\n",
       "      <td>used zoom for conferencing with our teams whil...</td>\n",
       "      <td>0.000000</td>\n",
       "      <td>0.000000</td>\n",
       "      <td>neutral</td>\n",
       "    </tr>\n",
       "    <tr>\n",
       "      <th>3978</th>\n",
       "      <td>zoom well suited for organizations that vary a...</td>\n",
       "      <td>0.354762</td>\n",
       "      <td>0.583333</td>\n",
       "      <td>positive</td>\n",
       "    </tr>\n",
       "    <tr>\n",
       "      <th>3979</th>\n",
       "      <td>zoom well suited cloud video meetings far bett...</td>\n",
       "      <td>0.258333</td>\n",
       "      <td>0.683333</td>\n",
       "      <td>positive</td>\n",
       "    </tr>\n",
       "  </tbody>\n",
       "</table>\n",
       "<p>3979 rows × 4 columns</p>\n",
       "</div>"
      ],
      "text/plain": [
       "                                                Reviews  polarity  \\\n",
       "1                                       upgrade the app  0.000000   \n",
       "2                notification sound not working samsung  0.400000   \n",
       "3                     dunno why doalways error whensign  0.000000   \n",
       "4                                         will not open  0.000000   \n",
       "5     wants access everything talk about spy webb su...  0.233333   \n",
       "...                                                 ...       ...   \n",
       "3975  whenever have carry out follow meetings with c...  0.100000   \n",
       "3976  zoom makes easy generate meetings and send the...  0.433333   \n",
       "3977  used zoom for conferencing with our teams whil...  0.000000   \n",
       "3978  zoom well suited for organizations that vary a...  0.354762   \n",
       "3979  zoom well suited cloud video meetings far bett...  0.258333   \n",
       "\n",
       "      subjectivity     label  \n",
       "1         0.000000   neutral  \n",
       "2         0.400000  positive  \n",
       "3         0.000000   neutral  \n",
       "4         0.500000   neutral  \n",
       "5         0.662963  positive  \n",
       "...            ...       ...  \n",
       "3975      0.332143  positive  \n",
       "3976      0.833333  positive  \n",
       "3977      0.000000   neutral  \n",
       "3978      0.583333  positive  \n",
       "3979      0.683333  positive  \n",
       "\n",
       "[3979 rows x 4 columns]"
      ]
     },
     "execution_count": 22,
     "metadata": {},
     "output_type": "execute_result"
    }
   ],
   "source": [
    "df=df.drop([0],axis=0)\n",
    "df"
   ]
  },
  {
   "cell_type": "markdown",
   "metadata": {},
   "source": [
    "# Data Division"
   ]
  },
  {
   "cell_type": "code",
   "execution_count": 23,
   "metadata": {},
   "outputs": [
    {
     "name": "stdout",
     "output_type": "stream",
     "text": [
      "Shape of Data:  (3979, 4)\n"
     ]
    },
    {
     "data": {
      "image/png": "[encoded data removed]",
      "text/plain": [
       "<Figure size 432x288 with 1 Axes>"
      ]
     },
     "metadata": {
      "needs_background": "light"
     },
     "output_type": "display_data"
    }
   ],
   "source": [
    "print(\"Shape of Data: \",df.shape)\n",
    "sns.countplot(df['label'])\n",
    "plt.show()"
   ]
  },
  {
   "cell_type": "code",
   "execution_count": 24,
   "metadata": {},
   "outputs": [
    {
     "data": {
      "text/plain": [
       "<matplotlib.axes._subplots.AxesSubplot at 0x15fece7a7c8>"
      ]
     },
     "execution_count": 24,
     "metadata": {},
     "output_type": "execute_result"
    },
    {
     "data": {
      "image/png": "[encoded data removed]",
      "text/plain": [
       "<Figure size 432x288 with 1 Axes>"
      ]
     },
     "metadata": {},
     "output_type": "display_data"
    }
   ],
   "source": [
    "df.label.value_counts().plot(kind=\"pie\", autopct='%1.0f%%', colors=[\"green\", \"yellow\",\"red\"])"
   ]
  },
  {
   "cell_type": "code",
   "execution_count": 25,
   "metadata": {},
   "outputs": [
    {
     "name": "stdout",
     "output_type": "stream",
     "text": [
      "(3979,)\n",
      "(3979,)\n"
     ]
    }
   ],
   "source": [
    "Y_label=df.iloc[:,3].values\n",
    "target_names=['Positive', 'Negative', 'Neutral']\n",
    "labels=df['label']\n",
    "X_features=np.array(processed_features)\n",
    "print(X_features.shape)\n",
    "print(Y_label.shape)\n"
   ]
  },
  {
   "cell_type": "markdown",
   "metadata": {},
   "source": [
    "# Splitting Data Set"
   ]
  },
  {
   "cell_type": "code",
   "execution_count": 26,
   "metadata": {},
   "outputs": [],
   "source": [
    "X_train, X_test, y_train, y_test = train_test_split(X_features, Y_label, test_size=0.3)"
   ]
  },
  {
   "cell_type": "code",
   "execution_count": 27,
   "metadata": {},
   "outputs": [
    {
     "name": "stdout",
     "output_type": "stream",
     "text": [
      "(2785,)\n",
      "(1194,)\n",
      "['was different'\n",
      " 'plz make this app work onsplit screen thencan online classes and read other stuff while still looking see howlook others'\n",
      " 'fantastic appwould like know the maximum number video calls forsuit and ordinary google accounts'\n",
      " ... 'have yet learn more but will try wasgood experience'\n",
      " 'this app awesome but has some issues with the audio gets automatically red green and sometimes white plz something about'\n",
      " 'really enjoy using google classroom get information out students quickly homebase for all websites information assessments files you name students know there for links everything']\n"
     ]
    }
   ],
   "source": [
    "print(X_train.shape)\n",
    "print(X_test.shape)\n",
    "print(X_train)"
   ]
  },
  {
   "cell_type": "markdown",
   "metadata": {},
   "source": [
    "# Applying TFIDF"
   ]
  },
  {
   "cell_type": "code",
   "execution_count": 31,
   "metadata": {},
   "outputs": [
    {
     "name": "stdout",
     "output_type": "stream",
     "text": [
      "(2785, 6140)\n",
      "(1194, 6140)\n"
     ]
    }
   ],
   "source": [
    "tfidf_vectorizer=TfidfVectorizer(stop_words='english', max_df=0.7)\n",
    "tfidf_train=tfidf_vectorizer.fit_transform(X_train).toarray()\n",
    "tfidf_test=tfidf_vectorizer.transform(X_test).toarray()\n",
    "print(tfidf_train.shape)\n",
    "print(tfidf_test.shape)"
   ]
  },
  {
   "cell_type": "code",
   "execution_count": 32,
   "metadata": {},
   "outputs": [
    {
     "name": "stdout",
     "output_type": "stream",
     "text": [
      "[[0. 0. 0. ... 0. 0. 0.]\n",
      " [0. 0. 0. ... 0. 0. 0.]\n",
      " [0. 0. 0. ... 0. 0. 0.]\n",
      " ...\n",
      " [0. 0. 0. ... 0. 0. 0.]\n",
      " [0. 0. 0. ... 0. 0. 0.]\n",
      " [0. 0. 0. ... 0. 0. 0.]]\n"
     ]
    }
   ],
   "source": [
    "print(tfidf_train)"
   ]
  },
  {
   "cell_type": "markdown",
   "metadata": {},
   "source": [
    "# Applying SVM"
   ]
  },
  {
   "cell_type": "code",
   "execution_count": null,
   "metadata": {},
   "outputs": [],
   "source": [
    "svm = SVC()\n",
    "svm.fit(tfidf_train, y_train)"
   ]
  },
  {
   "cell_type": "code",
   "execution_count": 16,
   "metadata": {},
   "outputs": [
    {
     "name": "stdout",
     "output_type": "stream",
     "text": [
      "Accuracy of SVM : 76.72%\n"
     ]
    }
   ],
   "source": [
    "svm_pred=svm.predict(tfidf_test)\n",
    "\n",
    "accSVM = accuracy_score(y_test,svm_pred)\n",
    "accSVM=round(accSVM*100,2)\n",
    "print(f'Accuracy of SVM : {accSVM}%')"
   ]
  },
  {
   "cell_type": "markdown",
   "metadata": {},
   "source": [
    " A macro-average will compute the metric independently for each class and then take the average (hence treating all classes equally), whereas a micro-average will aggregate the contributions of all classes to compute the average metric."
   ]
  },
  {
   "cell_type": "code",
   "execution_count": 17,
   "metadata": {},
   "outputs": [
    {
     "name": "stdout",
     "output_type": "stream",
     "text": [
      "Confusion Matrix\n",
      "\n",
      "[[ 78  74  58]\n",
      " [  3 325  51]\n",
      " [  7  85 513]]\n",
      "Micro Precision: 0.77\n",
      "Micro Recall: 0.77\n",
      "Micro F1-score: 0.77\n",
      "\n",
      "Macro Precision: 0.79\n",
      "Macro Recall: 0.69\n",
      "Macro F1-score: 0.70\n",
      "\n",
      "Weighted Precision: 0.79\n",
      "Weighted Recall: 0.77\n",
      "Weighted F1-score: 0.75\n",
      "\n",
      "Classification Report\n",
      "\n",
      "              precision    recall  f1-score   support\n",
      "\n",
      "    negative       0.89      0.37      0.52       210\n",
      "     neutral       0.67      0.86      0.75       379\n",
      "    positive       0.82      0.85      0.84       605\n",
      "\n",
      "    accuracy                           0.77      1194\n",
      "   macro avg       0.79      0.69      0.70      1194\n",
      "weighted avg       0.79      0.77      0.75      1194\n",
      "\n"
     ]
    }
   ],
   "source": [
    "confusion = confusion_matrix(y_test, svm_pred)\n",
    "print('Confusion Matrix\\n')\n",
    "print(confusion)\n",
    "\n",
    "print('Micro Precision: {:.2f}'.format(precision_score(y_test, svm_pred, average='micro')))\n",
    "print('Micro Recall: {:.2f}'.format(recall_score(y_test, svm_pred, average='micro')))\n",
    "print('Micro F1-score: {:.2f}\\n'.format(f1_score(y_test, svm_pred, average='micro')))\n",
    "\n",
    "print('Macro Precision: {:.2f}'.format(precision_score(y_test, svm_pred, average='macro')))\n",
    "print('Macro Recall: {:.2f}'.format(recall_score(y_test, svm_pred, average='macro')))\n",
    "print('Macro F1-score: {:.2f}\\n'.format(f1_score(y_test, svm_pred, average='macro')))\n",
    "\n",
    "print('Weighted Precision: {:.2f}'.format(precision_score(y_test, svm_pred, average='weighted')))\n",
    "print('Weighted Recall: {:.2f}'.format(recall_score(y_test, svm_pred, average='weighted')))\n",
    "print('Weighted F1-score: {:.2f}'.format(f1_score(y_test, svm_pred, average='weighted')))\n",
    "\n",
    "print('\\nClassification Report\\n')\n",
    "print(classification_report(y_test, svm_pred))"
   ]
  },
  {
   "cell_type": "markdown",
   "metadata": {},
   "source": [
    "# Applying Multinomial Naive Byes"
   ]
  },
  {
   "cell_type": "code",
   "execution_count": 18,
   "metadata": {},
   "outputs": [
    {
     "data": {
      "text/plain": [
       "MultinomialNB(alpha=1.0, class_prior=None, fit_prior=True)"
      ]
     },
     "execution_count": 18,
     "metadata": {},
     "output_type": "execute_result"
    }
   ],
   "source": [
    "NaiveByes = MultinomialNB() \n",
    "NaiveByes.fit(tfidf_train, y_train) "
   ]
  },
  {
   "cell_type": "code",
   "execution_count": 19,
   "metadata": {},
   "outputs": [
    {
     "name": "stdout",
     "output_type": "stream",
     "text": [
      "Accuracy of Naive Byes Model : 61.73%\n"
     ]
    }
   ],
   "source": [
    "pred_NB = NaiveByes.predict(tfidf_test) \n",
    "\n",
    "accuracy_NB = metrics.accuracy_score(y_test, pred_NB)\n",
    "accuracy_NB=round(accuracy_NB*100,2)\n",
    "print(f'Accuracy of Naive Byes Model : {accuracy_NB}%')"
   ]
  },
  {
   "cell_type": "code",
   "execution_count": 20,
   "metadata": {},
   "outputs": [
    {
     "name": "stdout",
     "output_type": "stream",
     "text": [
      "Confusion Matrix\n",
      "\n",
      "[[ 38  18 154]\n",
      " [  1 106 272]\n",
      " [  1  11 593]]\n",
      "Micro Precision: 0.62\n",
      "Micro Recall: 0.62\n",
      "Micro F1-score: 0.62\n",
      "\n",
      "Macro Precision: 0.77\n",
      "Macro Recall: 0.48\n",
      "Macro F1-score: 0.48\n",
      "\n",
      "Weighted Precision: 0.71\n",
      "Weighted Recall: 0.62\n",
      "Weighted F1-score: 0.55\n",
      "\n",
      "Classification Report\n",
      "\n",
      "              precision    recall  f1-score   support\n",
      "\n",
      "    negative       0.95      0.18      0.30       210\n",
      "     neutral       0.79      0.28      0.41       379\n",
      "    positive       0.58      0.98      0.73       605\n",
      "\n",
      "    accuracy                           0.62      1194\n",
      "   macro avg       0.77      0.48      0.48      1194\n",
      "weighted avg       0.71      0.62      0.55      1194\n",
      "\n"
     ]
    }
   ],
   "source": [
    "confusion = confusion_matrix(y_test, pred_NB)\n",
    "print('Confusion Matrix\\n')\n",
    "print(confusion)\n",
    "\n",
    "print('Micro Precision: {:.2f}'.format(precision_score(y_test, pred_NB, average='micro')))\n",
    "print('Micro Recall: {:.2f}'.format(recall_score(y_test, pred_NB, average='micro')))\n",
    "print('Micro F1-score: {:.2f}\\n'.format(f1_score(y_test, pred_NB, average='micro')))\n",
    "\n",
    "print('Macro Precision: {:.2f}'.format(precision_score(y_test, pred_NB, average='macro')))\n",
    "print('Macro Recall: {:.2f}'.format(recall_score(y_test, pred_NB, average='macro')))\n",
    "print('Macro F1-score: {:.2f}\\n'.format(f1_score(y_test, pred_NB, average='macro')))\n",
    "\n",
    "print('Weighted Precision: {:.2f}'.format(precision_score(y_test, pred_NB, average='weighted')))\n",
    "print('Weighted Recall: {:.2f}'.format(recall_score(y_test, pred_NB, average='weighted')))\n",
    "print('Weighted F1-score: {:.2f}'.format(f1_score(y_test, pred_NB, average='weighted')))\n",
    "\n",
    "print('\\nClassification Report\\n')\n",
    "print(classification_report(y_test, pred_NB))"
   ]
  },
  {
   "cell_type": "markdown",
   "metadata": {},
   "source": [
    "# Applying Passive Aggressive Classifier"
   ]
  },
  {
   "cell_type": "code",
   "execution_count": 21,
   "metadata": {},
   "outputs": [
    {
     "data": {
      "text/plain": [
       "PassiveAggressiveClassifier(C=1.0, average=False, class_weight=None,\n",
       "                            early_stopping=False, fit_intercept=True,\n",
       "                            loss='hinge', max_iter=1000, n_iter_no_change=5,\n",
       "                            n_jobs=None, random_state=None, shuffle=True,\n",
       "                            tol=0.001, validation_fraction=0.1, verbose=0,\n",
       "                            warm_start=False)"
      ]
     },
     "execution_count": 21,
     "metadata": {},
     "output_type": "execute_result"
    }
   ],
   "source": [
    "PA_Model=PassiveAggressiveClassifier()\n",
    "PA_Model.fit(tfidf_train,y_train)"
   ]
  },
  {
   "cell_type": "code",
   "execution_count": 22,
   "metadata": {},
   "outputs": [
    {
     "name": "stdout",
     "output_type": "stream",
     "text": [
      "Accuracy of Passive Aggressive Model : 77.72%\n"
     ]
    }
   ],
   "source": [
    "pred_PA=PA_Model.predict(tfidf_test)\n",
    "\n",
    "accuracy_PA=accuracy_score(y_test,pred_PA)\n",
    "accuracy_PA=round(accuracy_PA*100,2)\n",
    "print(f'Accuracy of Passive Aggressive Model : {accuracy_PA}%')"
   ]
  },
  {
   "cell_type": "code",
   "execution_count": 23,
   "metadata": {},
   "outputs": [
    {
     "name": "stdout",
     "output_type": "stream",
     "text": [
      "Confusion Matrix\n",
      "\n",
      "[[124  53  33]\n",
      " [ 19 310  50]\n",
      " [ 35  76 494]]\n",
      "Micro Precision: 0.78\n",
      "Micro Recall: 0.78\n",
      "Micro F1-score: 0.78\n",
      "\n",
      "Macro Precision: 0.75\n",
      "Macro Recall: 0.74\n",
      "Macro F1-score: 0.74\n",
      "\n",
      "Weighted Precision: 0.78\n",
      "Weighted Recall: 0.78\n",
      "Weighted F1-score: 0.78\n",
      "\n",
      "Classification Report\n",
      "\n",
      "              precision    recall  f1-score   support\n",
      "\n",
      "    negative       0.70      0.59      0.64       210\n",
      "     neutral       0.71      0.82      0.76       379\n",
      "    positive       0.86      0.82      0.84       605\n",
      "\n",
      "    accuracy                           0.78      1194\n",
      "   macro avg       0.75      0.74      0.74      1194\n",
      "weighted avg       0.78      0.78      0.78      1194\n",
      "\n"
     ]
    }
   ],
   "source": [
    "confusion = confusion_matrix(y_test, pred_PA)\n",
    "print('Confusion Matrix\\n')\n",
    "print(confusion)\n",
    "\n",
    "print('Micro Precision: {:.2f}'.format(precision_score(y_test, pred_PA, average='micro')))\n",
    "print('Micro Recall: {:.2f}'.format(recall_score(y_test, pred_PA, average='micro')))\n",
    "print('Micro F1-score: {:.2f}\\n'.format(f1_score(y_test, pred_PA, average='micro')))\n",
    "\n",
    "print('Macro Precision: {:.2f}'.format(precision_score(y_test, pred_PA, average='macro')))\n",
    "print('Macro Recall: {:.2f}'.format(recall_score(y_test, pred_PA, average='macro')))\n",
    "print('Macro F1-score: {:.2f}\\n'.format(f1_score(y_test, pred_PA, average='macro')))\n",
    "\n",
    "print('Weighted Precision: {:.2f}'.format(precision_score(y_test, pred_PA, average='weighted')))\n",
    "print('Weighted Recall: {:.2f}'.format(recall_score(y_test, pred_PA, average='weighted')))\n",
    "print('Weighted F1-score: {:.2f}'.format(f1_score(y_test, pred_PA, average='weighted')))\n",
    "\n",
    "print('\\nClassification Report\\n')\n",
    "print(classification_report(y_test, pred_PA))"
   ]
  },
  {
   "cell_type": "markdown",
   "metadata": {},
   "source": [
    "# Applying Decision Tree"
   ]
  },
  {
   "cell_type": "code",
   "execution_count": 24,
   "metadata": {},
   "outputs": [
    {
     "data": {
      "text/plain": [
       "DecisionTreeClassifier(ccp_alpha=0.0, class_weight=None, criterion='entropy',\n",
       "                       max_depth=None, max_features=None, max_leaf_nodes=None,\n",
       "                       min_impurity_decrease=0.0, min_impurity_split=None,\n",
       "                       min_samples_leaf=1, min_samples_split=2,\n",
       "                       min_weight_fraction_leaf=0.0, presort='deprecated',\n",
       "                       random_state=None, splitter='best')"
      ]
     },
     "execution_count": 24,
     "metadata": {},
     "output_type": "execute_result"
    }
   ],
   "source": [
    "model_Tree=tree.DecisionTreeClassifier(criterion=\"entropy\")\n",
    "model_Tree.fit(tfidf_train,y_train)"
   ]
  },
  {
   "cell_type": "code",
   "execution_count": 25,
   "metadata": {},
   "outputs": [
    {
     "name": "stdout",
     "output_type": "stream",
     "text": [
      "Accuracy of Decision Tree : 77.14%\n"
     ]
    }
   ],
   "source": [
    "DT_predict=model_Tree.predict(tfidf_test)\n",
    "\n",
    "acc_DT=accuracy_score(y_test,DT_predict)\n",
    "acc_DT=round(acc_DT*100,2)\n",
    "print(f'Accuracy of Decision Tree : {acc_DT}%')"
   ]
  },
  {
   "cell_type": "code",
   "execution_count": 26,
   "metadata": {},
   "outputs": [
    {
     "name": "stdout",
     "output_type": "stream",
     "text": [
      "Confusion Matrix\n",
      "\n",
      "[[101  66  43]\n",
      " [ 16 334  29]\n",
      " [ 45  74 486]]\n",
      "Micro Precision: 0.77\n",
      "Micro Recall: 0.77\n",
      "Micro F1-score: 0.77\n",
      "\n",
      "Macro Precision: 0.73\n",
      "Macro Recall: 0.72\n",
      "Macro F1-score: 0.72\n",
      "\n",
      "Weighted Precision: 0.77\n",
      "Weighted Recall: 0.77\n",
      "Weighted F1-score: 0.77\n",
      "\n",
      "Classification Report\n",
      "\n",
      "              precision    recall  f1-score   support\n",
      "\n",
      "    negative       0.62      0.48      0.54       210\n",
      "     neutral       0.70      0.88      0.78       379\n",
      "    positive       0.87      0.80      0.84       605\n",
      "\n",
      "    accuracy                           0.77      1194\n",
      "   macro avg       0.73      0.72      0.72      1194\n",
      "weighted avg       0.77      0.77      0.77      1194\n",
      "\n"
     ]
    }
   ],
   "source": [
    "confusion = confusion_matrix(y_test, DT_predict)\n",
    "print('Confusion Matrix\\n')\n",
    "print(confusion)\n",
    "\n",
    "print('Micro Precision: {:.2f}'.format(precision_score(y_test, DT_predict, average='micro')))\n",
    "print('Micro Recall: {:.2f}'.format(recall_score(y_test, DT_predict, average='micro')))\n",
    "print('Micro F1-score: {:.2f}\\n'.format(f1_score(y_test, DT_predict, average='micro')))\n",
    "\n",
    "print('Macro Precision: {:.2f}'.format(precision_score(y_test, DT_predict, average='macro')))\n",
    "print('Macro Recall: {:.2f}'.format(recall_score(y_test, DT_predict, average='macro')))\n",
    "print('Macro F1-score: {:.2f}\\n'.format(f1_score(y_test, DT_predict, average='macro')))\n",
    "\n",
    "print('Weighted Precision: {:.2f}'.format(precision_score(y_test, DT_predict, average='weighted')))\n",
    "print('Weighted Recall: {:.2f}'.format(recall_score(y_test, DT_predict, average='weighted')))\n",
    "print('Weighted F1-score: {:.2f}'.format(f1_score(y_test, DT_predict, average='weighted')))\n",
    "\n",
    "print('\\nClassification Report\\n')\n",
    "print(classification_report(y_test, DT_predict))"
   ]
  },
  {
   "cell_type": "markdown",
   "metadata": {},
   "source": [
    "# Applying Random Forest"
   ]
  },
  {
   "cell_type": "code",
   "execution_count": 27,
   "metadata": {},
   "outputs": [
    {
     "data": {
      "text/plain": [
       "RandomForestClassifier(bootstrap=True, ccp_alpha=0.0, class_weight=None,\n",
       "                       criterion='gini', max_depth=None, max_features='auto',\n",
       "                       max_leaf_nodes=None, max_samples=None,\n",
       "                       min_impurity_decrease=0.0, min_impurity_split=None,\n",
       "                       min_samples_leaf=1, min_samples_split=2,\n",
       "                       min_weight_fraction_leaf=0.0, n_estimators=100,\n",
       "                       n_jobs=None, oob_score=False, random_state=None,\n",
       "                       verbose=0, warm_start=False)"
      ]
     },
     "execution_count": 27,
     "metadata": {},
     "output_type": "execute_result"
    }
   ],
   "source": [
    "text_classifier_RF = RandomForestClassifier()\n",
    "text_classifier_RF.fit(tfidf_train, y_train)"
   ]
  },
  {
   "cell_type": "code",
   "execution_count": 28,
   "metadata": {},
   "outputs": [
    {
     "name": "stdout",
     "output_type": "stream",
     "text": [
      "Accuracy of RF Model : 80.07%\n",
      "Confusion Matrix\n",
      "\n",
      "[[101  69  40]\n",
      " [  3 357  19]\n",
      " [ 18  89 498]]\n",
      "Micro Precision: 0.80\n",
      "Micro Recall: 0.80\n",
      "Micro F1-score: 0.80\n",
      "\n",
      "Macro Precision: 0.81\n",
      "Macro Recall: 0.75\n",
      "Macro F1-score: 0.75\n",
      "\n",
      "Weighted Precision: 0.82\n",
      "Weighted Recall: 0.80\n",
      "Weighted F1-score: 0.79\n",
      "\n",
      "Classification Report\n",
      "\n",
      "              precision    recall  f1-score   support\n",
      "\n",
      "    negative       0.83      0.48      0.61       210\n",
      "     neutral       0.69      0.94      0.80       379\n",
      "    positive       0.89      0.82      0.86       605\n",
      "\n",
      "    accuracy                           0.80      1194\n",
      "   macro avg       0.81      0.75      0.75      1194\n",
      "weighted avg       0.82      0.80      0.79      1194\n",
      "\n"
     ]
    }
   ],
   "source": [
    "predictions_RF= text_classifier_RF.predict(tfidf_test)\n",
    "accuracy_RF=accuracy_score(y_test,predictions_RF)\n",
    "accuracy_RF=round(accuracy_RF*100,2)\n",
    "print(f'Accuracy of RF Model : {accuracy_RF}%')\n",
    "\n",
    "confusion = confusion_matrix(y_test, predictions_RF)\n",
    "print('Confusion Matrix\\n')\n",
    "print(confusion)\n",
    "\n",
    "print('Micro Precision: {:.2f}'.format(precision_score(y_test, predictions_RF, average='micro')))\n",
    "print('Micro Recall: {:.2f}'.format(recall_score(y_test, predictions_RF, average='micro')))\n",
    "print('Micro F1-score: {:.2f}\\n'.format(f1_score(y_test, predictions_RF, average='micro')))\n",
    "\n",
    "print('Macro Precision: {:.2f}'.format(precision_score(y_test, predictions_RF, average='macro')))\n",
    "print('Macro Recall: {:.2f}'.format(recall_score(y_test, predictions_RF, average='macro')))\n",
    "print('Macro F1-score: {:.2f}\\n'.format(f1_score(y_test, predictions_RF, average='macro')))\n",
    "\n",
    "print('Weighted Precision: {:.2f}'.format(precision_score(y_test, predictions_RF, average='weighted')))\n",
    "print('Weighted Recall: {:.2f}'.format(recall_score(y_test, predictions_RF, average='weighted')))\n",
    "print('Weighted F1-score: {:.2f}'.format(f1_score(y_test, predictions_RF, average='weighted')))\n",
    "\n",
    "print('\\nClassification Report\\n')\n",
    "print(classification_report(y_test, predictions_RF))"
   ]
  },
  {
   "cell_type": "markdown",
   "metadata": {},
   "source": [
    "# Comparing Accuracy"
   ]
  },
  {
   "cell_type": "code",
   "execution_count": 29,
   "metadata": {},
   "outputs": [
    {
     "data": {
      "image/png": "[encoded data removed]",
      "text/plain": [
       "<Figure size 432x288 with 1 Axes>"
      ]
     },
     "metadata": {
      "needs_background": "light"
     },
     "output_type": "display_data"
    }
   ],
   "source": [
    "model_comparison = pd.DataFrame({'ML_Models': ['Passive Aggressive Classifier', 'Naive Byes', 'Decision Tree',\n",
    "                                             'Random Forest','SVM'],\n",
    "                                 'Accuracy': [accuracy_PA, accuracy_NB,  \n",
    "                                         acc_DT,accuracy_RF,accSVM]})\n",
    "\n",
    "model_comparison.sort_values('Accuracy', ascending = True).plot(x = 'ML_Models', y = 'Accuracy', kind = 'barh',\n",
    "                                                           color = 'pink', edgecolor = 'white')\n",
    "\n",
    "\n",
    "plt.ylabel('');\n",
    "plt.yticks(size = 14);\n",
    "plt.xlabel('Accuracy');\n",
    "plt.xticks(size = 15)\n",
    "plt.title('Model Comparison on Accuracy', size = 20);"
   ]
  },
  {
   "cell_type": "code",
   "execution_count": null,
   "metadata": {},
   "outputs": [],
   "source": []
  }
 ],
 "metadata": {
  "kernelspec": {
   "display_name": "Python 3",
   "language": "python",
   "name": "python3"
  },
  "language_info": {
   "codemirror_mode": {
    "name": "ipython",
    "version": 3
   },
   "file_extension": ".py",
   "mimetype": "text/x-python",
   "name": "python",
   "nbconvert_exporter": "python",
   "pygments_lexer": "ipython3",
   "version": "3.7.6"
  }
 },
 "nbformat": 4,
 "nbformat_minor": 4
}
