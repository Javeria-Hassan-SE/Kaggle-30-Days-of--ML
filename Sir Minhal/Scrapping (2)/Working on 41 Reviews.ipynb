{
 "cells": [
  {
   "cell_type": "markdown",
   "metadata": {},
   "source": [
    "# Importing Libraries"
   ]
  },
  {
   "cell_type": "code",
   "execution_count": 1,
   "metadata": {},
   "outputs": [],
   "source": [
    "import re\n",
    "import nltk \n",
    "import numpy as np\n",
    "import pandas as pd\n",
    "import matplotlib.pyplot as plt\n",
    "import seaborn as sns\n",
    "\n",
    "from sklearn.model_selection import train_test_split\n",
    "from sklearn.feature_extraction.text import TfidfVectorizer\n",
    "from sklearn.linear_model import PassiveAggressiveClassifier\n",
    "from sklearn.naive_bayes import MultinomialNB\n",
    "from sklearn.ensemble import RandomForestClassifier\n",
    "from sklearn.svm import SVC\n",
    "from sklearn import tree\n",
    "\n",
    "from sklearn import metrics\n",
    "from sklearn.metrics import classification_report\n",
    "from sklearn.metrics import accuracy_score, confusion_matrix\n",
    "from sklearn.metrics import plot_confusion_matrix"
   ]
  },
  {
   "cell_type": "markdown",
   "metadata": {},
   "source": [
    "# Reading Data Set "
   ]
  },
  {
   "cell_type": "code",
   "execution_count": 2,
   "metadata": {},
   "outputs": [
    {
     "name": "stdout",
     "output_type": "stream",
     "text": [
      "userName       0\n",
      "Unnamed: 1    40\n",
      "content        0\n",
      "appId          0\n",
      "Sentiment      0\n",
      "dtype: int64\n",
      "Shape of Data:  (40, 4)\n"
     ]
    },
    {
     "data": {
      "image/png": "[encoded data removed]",
      "text/plain": [
       "<Figure size 432x288 with 1 Axes>"
      ]
     },
     "metadata": {
      "needs_background": "light"
     },
     "output_type": "display_data"
    }
   ],
   "source": [
    "df=pd.read_csv(\"software reviews_41.csv\")\n",
    "print(df.isnull().sum())\n",
    "df=df.drop('Unnamed: 1',axis=1)\n",
    "print(\"Shape of Data: \",df.shape)\n",
    "sns.countplot(df['Sentiment'])\n",
    "plt.show()"
   ]
  },
  {
   "cell_type": "code",
   "execution_count": 3,
   "metadata": {},
   "outputs": [
    {
     "data": {
      "text/html": [
       "<div>\n",
       "<style scoped>\n",
       "    .dataframe tbody tr th:only-of-type {\n",
       "        vertical-align: middle;\n",
       "    }\n",
       "\n",
       "    .dataframe tbody tr th {\n",
       "        vertical-align: top;\n",
       "    }\n",
       "\n",
       "    .dataframe thead th {\n",
       "        text-align: right;\n",
       "    }\n",
       "</style>\n",
       "<table border=\"1\" class=\"dataframe\">\n",
       "  <thead>\n",
       "    <tr style=\"text-align: right;\">\n",
       "      <th></th>\n",
       "      <th>userName</th>\n",
       "      <th>content</th>\n",
       "      <th>appId</th>\n",
       "      <th>Sentiment</th>\n",
       "    </tr>\n",
       "  </thead>\n",
       "  <tbody>\n",
       "    <tr>\n",
       "      <th>0</th>\n",
       "      <td>Ratneshwar Prasad Sinha</td>\n",
       "      <td>Upgrade the app</td>\n",
       "      <td>zoom</td>\n",
       "      <td>neutral</td>\n",
       "    </tr>\n",
       "    <tr>\n",
       "      <th>1</th>\n",
       "      <td>Arun Kumar</td>\n",
       "      <td>Notification sound not working in samsung s4</td>\n",
       "      <td>zoom</td>\n",
       "      <td>negative</td>\n",
       "    </tr>\n",
       "    <tr>\n",
       "      <th>2</th>\n",
       "      <td>Alex Mendez</td>\n",
       "      <td>i dunno why do i always error 103 when i sign in</td>\n",
       "      <td>zoom</td>\n",
       "      <td>negative</td>\n",
       "    </tr>\n",
       "    <tr>\n",
       "      <th>3</th>\n",
       "      <td>Weeping Willow</td>\n",
       "      <td>It will not open</td>\n",
       "      <td>zoom</td>\n",
       "      <td>negative</td>\n",
       "    </tr>\n",
       "    <tr>\n",
       "      <th>4</th>\n",
       "      <td>Phree Zleva</td>\n",
       "      <td>Wants access to everything. Talk about spy web...</td>\n",
       "      <td>zoom</td>\n",
       "      <td>positive</td>\n",
       "    </tr>\n",
       "  </tbody>\n",
       "</table>\n",
       "</div>"
      ],
      "text/plain": [
       "                  userName                                            content  \\\n",
       "0  Ratneshwar Prasad Sinha                                    Upgrade the app   \n",
       "1               Arun Kumar       Notification sound not working in samsung s4   \n",
       "2              Alex Mendez   i dunno why do i always error 103 when i sign in   \n",
       "3           Weeping Willow                                   It will not open   \n",
       "4              Phree Zleva  Wants access to everything. Talk about spy web...   \n",
       "\n",
       "  appId Sentiment  \n",
       "0  zoom   neutral  \n",
       "1  zoom  negative  \n",
       "2  zoom  negative  \n",
       "3  zoom  negative  \n",
       "4  zoom  positive  "
      ]
     },
     "execution_count": 3,
     "metadata": {},
     "output_type": "execute_result"
    }
   ],
   "source": [
    "df.head()"
   ]
  },
  {
   "cell_type": "code",
   "execution_count": 4,
   "metadata": {},
   "outputs": [
    {
     "data": {
      "text/plain": [
       "<matplotlib.axes._subplots.AxesSubplot at 0x1d0763b4608>"
      ]
     },
     "execution_count": 4,
     "metadata": {},
     "output_type": "execute_result"
    },
    {
     "data": {
      "image/png": "[encoded data removed]",
      "text/plain": [
       "<Figure size 432x288 with 1 Axes>"
      ]
     },
     "metadata": {},
     "output_type": "display_data"
    }
   ],
   "source": [
    "df.Sentiment.value_counts().plot(kind=\"pie\", autopct='%1.0f%%', colors=[\"red\", \"yellow\", \"green\"])"
   ]
  },
  {
   "cell_type": "markdown",
   "metadata": {},
   "source": [
    "# Separating Features and Labels"
   ]
  },
  {
   "cell_type": "code",
   "execution_count": 5,
   "metadata": {},
   "outputs": [
    {
     "name": "stdout",
     "output_type": "stream",
     "text": [
      "['neutral' 'negative' 'negative' 'negative' 'positive' 'neutral'\n",
      " 'negative' 'positive' 'negative' 'negative' 'negative' 'neutral'\n",
      " 'negative' 'neutral' 'negative' 'negative' 'negative' 'neutral'\n",
      " 'positive' 'neutral' 'neutral' 'neutral' 'neutral' 'negative' 'neutral'\n",
      " 'negative' 'negative' 'negative' 'negative' 'negative' 'negative'\n",
      " 'negative' 'neutral' 'negative' 'negative' 'negative' 'negative'\n",
      " 'negative' 'positive' 'negative']\n"
     ]
    }
   ],
   "source": [
    "features=df.iloc[:,1].values\n",
    "label=df.iloc[:,3].values\n",
    "print(label)"
   ]
  },
  {
   "cell_type": "markdown",
   "metadata": {},
   "source": [
    "# Data Cleaning"
   ]
  },
  {
   "cell_type": "code",
   "execution_count": 6,
   "metadata": {},
   "outputs": [],
   "source": [
    "processed_features = []\n",
    "\n",
    "for sentence in range(0, len(features)):\n",
    "    # Remove all the special characters\n",
    "    processed_feature = re.sub(r'\\W', ' ', str(features[sentence]))\n",
    "\n",
    "    # remove all single characters\n",
    "    processed_feature= re.sub(r'\\s+[a-zA-Z]\\s+', ' ', processed_feature)\n",
    "\n",
    "    # Remove single characters from the start\n",
    "    processed_feature = re.sub(r'\\^[a-zA-Z]\\s+', ' ', processed_feature) \n",
    "\n",
    "    # Substituting multiple spaces with single space\n",
    "    processed_feature = re.sub(r'\\s+', ' ', processed_feature, flags=re.I)\n",
    "\n",
    "    # Removing prefixed 'b'\n",
    "    processed_feature = re.sub(r'^b\\s+', '', processed_feature)\n",
    "\n",
    "    # Converting to Lowercase\n",
    "    processed_feature = processed_feature.lower()\n",
    "\n",
    "    processed_features.append(processed_feature)"
   ]
  },
  {
   "cell_type": "code",
   "execution_count": 7,
   "metadata": {},
   "outputs": [
    {
     "data": {
      "text/plain": [
       "(40,)"
      ]
     },
     "execution_count": 7,
     "metadata": {},
     "output_type": "execute_result"
    }
   ],
   "source": [
    "processed_features=np.reshape(processed_features,(40,)) \n",
    "processed_features.shape"
   ]
  },
  {
   "cell_type": "code",
   "execution_count": 8,
   "metadata": {},
   "outputs": [
    {
     "data": {
      "text/plain": [
       "(40,)"
      ]
     },
     "execution_count": 8,
     "metadata": {},
     "output_type": "execute_result"
    }
   ],
   "source": [
    "label.shape"
   ]
  },
  {
   "cell_type": "markdown",
   "metadata": {},
   "source": [
    "# Applying TFIDF"
   ]
  },
  {
   "cell_type": "code",
   "execution_count": 9,
   "metadata": {},
   "outputs": [],
   "source": [
    "from sklearn.model_selection import train_test_split\n",
    "from sklearn.feature_extraction.text import TfidfVectorizer"
   ]
  },
  {
   "cell_type": "code",
   "execution_count": 1,
   "metadata": {},
   "outputs": [
    {
     "ename": "NameError",
     "evalue": "name 'TfidfVectorizer' is not defined",
     "output_type": "error",
     "traceback": [
      "\u001b[1;31m---------------------------------------------------------------------------\u001b[0m",
      "\u001b[1;31mNameError\u001b[0m                                 Traceback (most recent call last)",
      "\u001b[1;32m<ipython-input-1-92a9ea3ae8fe>\u001b[0m in \u001b[0;36m<module>\u001b[1;34m\u001b[0m\n\u001b[1;32m----> 1\u001b[1;33m \u001b[0mtfidf_vectorizer\u001b[0m\u001b[1;33m=\u001b[0m\u001b[0mTfidfVectorizer\u001b[0m \u001b[1;33m(\u001b[0m\u001b[0mmax_df\u001b[0m\u001b[1;33m=\u001b[0m\u001b[1;36m0.7\u001b[0m\u001b[1;33m,\u001b[0m \u001b[0mstop_words\u001b[0m\u001b[1;33m=\u001b[0m\u001b[1;34m'english'\u001b[0m\u001b[1;33m)\u001b[0m\u001b[1;33m\u001b[0m\u001b[1;33m\u001b[0m\u001b[0m\n\u001b[0m\u001b[0;32m      2\u001b[0m \u001b[0mprocessed_features\u001b[0m \u001b[1;33m=\u001b[0m \u001b[0mtfidf_vectorizer\u001b[0m\u001b[1;33m.\u001b[0m\u001b[0mfit_transform\u001b[0m\u001b[1;33m(\u001b[0m\u001b[0mprocessed_features\u001b[0m\u001b[1;33m)\u001b[0m\u001b[1;33m\u001b[0m\u001b[1;33m\u001b[0m\u001b[0m\n\u001b[0;32m      3\u001b[0m \u001b[0mprocessed_labels\u001b[0m \u001b[1;33m=\u001b[0m \u001b[0mtfidf_vectorizer\u001b[0m\u001b[1;33m.\u001b[0m\u001b[0mfit_transform\u001b[0m\u001b[1;33m(\u001b[0m\u001b[0mlabel\u001b[0m\u001b[1;33m)\u001b[0m\u001b[1;33m\u001b[0m\u001b[1;33m\u001b[0m\u001b[0m\n",
      "\u001b[1;31mNameError\u001b[0m: name 'TfidfVectorizer' is not defined"
     ]
    }
   ],
   "source": [
    "tfidf_vectorizer=TfidfVectorizer (max_df=0.7, stop_words='english')\n",
    "processed_features = tfidf_vectorizer.fit_transform(processed_features)\n",
    "processed_labels = tfidf_vectorizer.fit_transform(label)"
   ]
  },
  {
   "cell_type": "code",
   "execution_count": 12,
   "metadata": {},
   "outputs": [
    {
     "name": "stdout",
     "output_type": "stream",
     "text": [
      "(40, 3)\n",
      "(40, 202)\n",
      "(40,)\n"
     ]
    }
   ],
   "source": [
    "print(processed_labels.shape)\n",
    "print(processed_features.shape)\n",
    "print(label.shape)"
   ]
  },
  {
   "cell_type": "markdown",
   "metadata": {},
   "source": [
    "# Splitting Data Set"
   ]
  },
  {
   "cell_type": "code",
   "execution_count": 13,
   "metadata": {},
   "outputs": [],
   "source": [
    "labels=df['Sentiment']\n",
    "X_train, X_test, y_train, y_test = train_test_split(processed_features, label, test_size=0.3)"
   ]
  },
  {
   "cell_type": "code",
   "execution_count": 14,
   "metadata": {},
   "outputs": [
    {
     "name": "stdout",
     "output_type": "stream",
     "text": [
      "(28, 202)\n",
      "(28,)\n"
     ]
    }
   ],
   "source": [
    "print(X_train.shape)\n",
    "print(y_train.shape)"
   ]
  },
  {
   "cell_type": "markdown",
   "metadata": {},
   "source": [
    "# Applying SVM"
   ]
  },
  {
   "cell_type": "code",
   "execution_count": 15,
   "metadata": {},
   "outputs": [
    {
     "data": {
      "text/plain": [
       "SVC(C=1.0, break_ties=False, cache_size=200, class_weight=None, coef0=0.0,\n",
       "    decision_function_shape='ovr', degree=3, gamma='scale', kernel='rbf',\n",
       "    max_iter=-1, probability=False, random_state=None, shrinking=True,\n",
       "    tol=0.001, verbose=False)"
      ]
     },
     "execution_count": 15,
     "metadata": {},
     "output_type": "execute_result"
    }
   ],
   "source": [
    "svm = SVC()\n",
    "svm.fit(X_train, y_train)"
   ]
  },
  {
   "cell_type": "code",
   "execution_count": 16,
   "metadata": {},
   "outputs": [
    {
     "name": "stdout",
     "output_type": "stream",
     "text": [
      "Accuracy of SVM : 83.33%\n"
     ]
    }
   ],
   "source": [
    "svm_pred=svm.predict(X_test)\n",
    "\n",
    "accSVM = accuracy_score(y_test,svm_pred)\n",
    "accSVM=round(accSVM*100,2)\n",
    "print(f'Accuracy of SVM : {accSVM}%')"
   ]
  },
  {
   "cell_type": "code",
   "execution_count": 27,
   "metadata": {},
   "outputs": [
    {
     "name": "stdout",
     "output_type": "stream",
     "text": [
      "Confusion Matrix\n",
      "\n",
      "[[10  0  0]\n",
      " [ 1  0  0]\n",
      " [ 1  0  0]]\n",
      "\n",
      "Accuracy: 0.83\n",
      "\n",
      "Micro Precision: 0.83\n",
      "Micro Recall: 0.83\n",
      "Micro F1-score: 0.83\n",
      "\n",
      "Macro Precision: 0.28\n",
      "Macro Recall: 0.33\n",
      "Macro F1-score: 0.30\n",
      "\n",
      "Weighted Precision: 0.69\n",
      "Weighted Recall: 0.83\n",
      "Weighted F1-score: 0.76\n",
      "\n",
      "Classification Report\n",
      "\n",
      "              precision    recall  f1-score   support\n",
      "\n",
      "    Positive       0.83      1.00      0.91        10\n",
      "    Negative       0.00      0.00      0.00         1\n",
      "     Neutral       0.00      0.00      0.00         1\n",
      "\n",
      "    accuracy                           0.83        12\n",
      "   macro avg       0.28      0.33      0.30        12\n",
      "weighted avg       0.69      0.83      0.76        12\n",
      "\n"
     ]
    },
    {
     "name": "stderr",
     "output_type": "stream",
     "text": [
      "C:\\Users\\javeria\\anaconda3\\lib\\site-packages\\sklearn\\metrics\\_classification.py:1272: UndefinedMetricWarning: Precision is ill-defined and being set to 0.0 in labels with no predicted samples. Use `zero_division` parameter to control this behavior.\n",
      "  _warn_prf(average, modifier, msg_start, len(result))\n"
     ]
    }
   ],
   "source": [
    "confusion = confusion_matrix(y_test, svm_pred)\n",
    "print('Confusion Matrix\\n')\n",
    "print(confusion)\n",
    "\n",
    "#importing accuracy_score, precision_score, recall_score, f1_score\n",
    "from sklearn.metrics import  precision_score, recall_score, f1_score\n",
    "print('\\nAccuracy: {:.2f}\\n'.format(accuracy_score(y_test, svm_pred)))\n",
    "\n",
    "print('Micro Precision: {:.2f}'.format(precision_score(y_test, svm_pred, average='micro')))\n",
    "print('Micro Recall: {:.2f}'.format(recall_score(y_test, svm_pred, average='micro')))\n",
    "print('Micro F1-score: {:.2f}\\n'.format(f1_score(y_test, svm_pred, average='micro')))\n",
    "\n",
    "print('Macro Precision: {:.2f}'.format(precision_score(y_test, svm_pred, average='macro')))\n",
    "print('Macro Recall: {:.2f}'.format(recall_score(y_test, svm_pred, average='macro')))\n",
    "print('Macro F1-score: {:.2f}\\n'.format(f1_score(y_test, svm_pred, average='macro')))\n",
    "\n",
    "print('Weighted Precision: {:.2f}'.format(precision_score(y_test, svm_pred, average='weighted')))\n",
    "print('Weighted Recall: {:.2f}'.format(recall_score(y_test, svm_pred, average='weighted')))\n",
    "print('Weighted F1-score: {:.2f}'.format(f1_score(y_test, svm_pred, average='weighted')))\n",
    "\n",
    "from sklearn.metrics import classification_report\n",
    "print('\\nClassification Report\\n')\n",
    "print(classification_report(y_test, svm_pred, target_names=['Positive', 'Negative', 'Neutral']))"
   ]
  },
  {
   "cell_type": "markdown",
   "metadata": {},
   "source": [
    "# Applying Multinomial Naive Byes"
   ]
  },
  {
   "cell_type": "code",
   "execution_count": 17,
   "metadata": {},
   "outputs": [
    {
     "data": {
      "text/plain": [
       "MultinomialNB(alpha=1.0, class_prior=None, fit_prior=True)"
      ]
     },
     "execution_count": 17,
     "metadata": {},
     "output_type": "execute_result"
    }
   ],
   "source": [
    "NaiveByes = MultinomialNB() \n",
    "NaiveByes.fit(X_train, y_train) "
   ]
  },
  {
   "cell_type": "code",
   "execution_count": 18,
   "metadata": {},
   "outputs": [
    {
     "name": "stdout",
     "output_type": "stream",
     "text": [
      "Accuracy of Naive Byes Model : 83.33%\n"
     ]
    }
   ],
   "source": [
    "pred_NB = NaiveByes.predict(X_test) \n",
    "\n",
    "accuracy_NB = metrics.accuracy_score(y_test, pred_NB)\n",
    "accuracy_NB=round(accuracy_NB*100,2)\n",
    "print(f'Accuracy of Naive Byes Model : {accuracy_NB}%')"
   ]
  },
  {
   "cell_type": "code",
   "execution_count": 28,
   "metadata": {},
   "outputs": [
    {
     "name": "stdout",
     "output_type": "stream",
     "text": [
      "Confusion Matrix\n",
      "\n",
      "[[9 1 0]\n",
      " [0 1 0]\n",
      " [1 0 0]]\n",
      "\n",
      "Accuracy: 0.83\n",
      "\n",
      "Micro Precision: 0.83\n",
      "Micro Recall: 0.83\n",
      "Micro F1-score: 0.83\n",
      "\n",
      "Macro Precision: 0.47\n",
      "Macro Recall: 0.63\n",
      "Macro F1-score: 0.52\n",
      "\n",
      "Weighted Precision: 0.79\n",
      "Weighted Recall: 0.83\n",
      "Weighted F1-score: 0.81\n",
      "\n",
      "Classification Report\n",
      "\n",
      "              precision    recall  f1-score   support\n",
      "\n",
      "    Positive       0.90      0.90      0.90        10\n",
      "    Negative       0.50      1.00      0.67         1\n",
      "     Neutral       0.00      0.00      0.00         1\n",
      "\n",
      "    accuracy                           0.83        12\n",
      "   macro avg       0.47      0.63      0.52        12\n",
      "weighted avg       0.79      0.83      0.81        12\n",
      "\n"
     ]
    }
   ],
   "source": [
    "confusion = confusion_matrix(y_test, pred_NB)\n",
    "print('Confusion Matrix\\n')\n",
    "print(confusion)\n",
    "\n",
    "#importing accuracy_score, precision_score, recall_score, f1_score\n",
    "from sklearn.metrics import  precision_score, recall_score, f1_score\n",
    "print('\\nAccuracy: {:.2f}\\n'.format(accuracy_score(y_test, pred_NB)))\n",
    "\n",
    "print('Micro Precision: {:.2f}'.format(precision_score(y_test, pred_NB, average='micro')))\n",
    "print('Micro Recall: {:.2f}'.format(recall_score(y_test, pred_NB, average='micro')))\n",
    "print('Micro F1-score: {:.2f}\\n'.format(f1_score(y_test, pred_NB, average='micro')))\n",
    "\n",
    "print('Macro Precision: {:.2f}'.format(precision_score(y_test, pred_NB, average='macro')))\n",
    "print('Macro Recall: {:.2f}'.format(recall_score(y_test, pred_NB, average='macro')))\n",
    "print('Macro F1-score: {:.2f}\\n'.format(f1_score(y_test, pred_NB, average='macro')))\n",
    "\n",
    "print('Weighted Precision: {:.2f}'.format(precision_score(y_test, pred_NB, average='weighted')))\n",
    "print('Weighted Recall: {:.2f}'.format(recall_score(y_test, pred_NB, average='weighted')))\n",
    "print('Weighted F1-score: {:.2f}'.format(f1_score(y_test, pred_NB, average='weighted')))\n",
    "\n",
    "from sklearn.metrics import classification_report\n",
    "print('\\nClassification Report\\n')\n",
    "print(classification_report(y_test, pred_NB, target_names=['Positive', 'Negative', 'Neutral']))"
   ]
  },
  {
   "cell_type": "markdown",
   "metadata": {},
   "source": [
    "# Applying Passive Aggressive Classifier"
   ]
  },
  {
   "cell_type": "code",
   "execution_count": 19,
   "metadata": {},
   "outputs": [
    {
     "data": {
      "text/plain": [
       "PassiveAggressiveClassifier(C=1.0, average=False, class_weight=None,\n",
       "                            early_stopping=False, fit_intercept=True,\n",
       "                            loss='hinge', max_iter=1000, n_iter_no_change=5,\n",
       "                            n_jobs=None, random_state=None, shuffle=True,\n",
       "                            tol=0.001, validation_fraction=0.1, verbose=0,\n",
       "                            warm_start=False)"
      ]
     },
     "execution_count": 19,
     "metadata": {},
     "output_type": "execute_result"
    }
   ],
   "source": [
    "PA_Model=PassiveAggressiveClassifier()\n",
    "PA_Model.fit(X_train,y_train)"
   ]
  },
  {
   "cell_type": "code",
   "execution_count": 20,
   "metadata": {},
   "outputs": [
    {
     "name": "stdout",
     "output_type": "stream",
     "text": [
      "Accuracy of Passive Aggressive Model : 75.0%\n"
     ]
    }
   ],
   "source": [
    "pred_PA=PA_Model.predict(X_test)\n",
    "\n",
    "accuracy_PA=accuracy_score(y_test,pred_PA)\n",
    "accuracy_PA=round(accuracy_PA*100,2)\n",
    "print(f'Accuracy of Passive Aggressive Model : {accuracy_PA}%')"
   ]
  },
  {
   "cell_type": "code",
   "execution_count": 29,
   "metadata": {},
   "outputs": [
    {
     "name": "stdout",
     "output_type": "stream",
     "text": [
      "Confusion Matrix\n",
      "\n",
      "[[8 2 0]\n",
      " [0 1 0]\n",
      " [1 0 0]]\n",
      "\n",
      "Accuracy: 0.75\n",
      "\n",
      "Micro Precision: 0.75\n",
      "Micro Recall: 0.75\n",
      "Micro F1-score: 0.75\n",
      "\n",
      "Macro Precision: 0.41\n",
      "Macro Recall: 0.60\n",
      "Macro F1-score: 0.45\n",
      "\n",
      "Weighted Precision: 0.77\n",
      "Weighted Recall: 0.75\n",
      "Weighted F1-score: 0.74\n",
      "\n",
      "Classification Report\n",
      "\n",
      "              precision    recall  f1-score   support\n",
      "\n",
      "    Positive       0.89      0.80      0.84        10\n",
      "    Negative       0.33      1.00      0.50         1\n",
      "     Neutral       0.00      0.00      0.00         1\n",
      "\n",
      "    accuracy                           0.75        12\n",
      "   macro avg       0.41      0.60      0.45        12\n",
      "weighted avg       0.77      0.75      0.74        12\n",
      "\n"
     ]
    }
   ],
   "source": [
    "confusion = confusion_matrix(y_test, pred_PA)\n",
    "print('Confusion Matrix\\n')\n",
    "print(confusion)\n",
    "\n",
    "#importing accuracy_score, precision_score, recall_score, f1_score\n",
    "from sklearn.metrics import  precision_score, recall_score, f1_score\n",
    "print('\\nAccuracy: {:.2f}\\n'.format(accuracy_score(y_test, pred_PA)))\n",
    "\n",
    "print('Micro Precision: {:.2f}'.format(precision_score(y_test, pred_PA, average='micro')))\n",
    "print('Micro Recall: {:.2f}'.format(recall_score(y_test, pred_PA, average='micro')))\n",
    "print('Micro F1-score: {:.2f}\\n'.format(f1_score(y_test, pred_PA, average='micro')))\n",
    "\n",
    "print('Macro Precision: {:.2f}'.format(precision_score(y_test, pred_PA, average='macro')))\n",
    "print('Macro Recall: {:.2f}'.format(recall_score(y_test, pred_PA, average='macro')))\n",
    "print('Macro F1-score: {:.2f}\\n'.format(f1_score(y_test, pred_PA, average='macro')))\n",
    "\n",
    "print('Weighted Precision: {:.2f}'.format(precision_score(y_test, pred_PA, average='weighted')))\n",
    "print('Weighted Recall: {:.2f}'.format(recall_score(y_test, pred_PA, average='weighted')))\n",
    "print('Weighted F1-score: {:.2f}'.format(f1_score(y_test, pred_PA, average='weighted')))\n",
    "\n",
    "from sklearn.metrics import classification_report\n",
    "print('\\nClassification Report\\n')\n",
    "print(classification_report(y_test, pred_PA, target_names=['Positive', 'Negative', 'Neutral']))"
   ]
  },
  {
   "cell_type": "markdown",
   "metadata": {},
   "source": [
    "# Applying Decision Tree"
   ]
  },
  {
   "cell_type": "code",
   "execution_count": 21,
   "metadata": {},
   "outputs": [
    {
     "data": {
      "text/plain": [
       "DecisionTreeClassifier(ccp_alpha=0.0, class_weight=None, criterion='entropy',\n",
       "                       max_depth=None, max_features=None, max_leaf_nodes=None,\n",
       "                       min_impurity_decrease=0.0, min_impurity_split=None,\n",
       "                       min_samples_leaf=1, min_samples_split=2,\n",
       "                       min_weight_fraction_leaf=0.0, presort='deprecated',\n",
       "                       random_state=None, splitter='best')"
      ]
     },
     "execution_count": 21,
     "metadata": {},
     "output_type": "execute_result"
    }
   ],
   "source": [
    "model_Tree=tree.DecisionTreeClassifier(criterion=\"entropy\")\n",
    "model_Tree.fit(X_train,y_train)"
   ]
  },
  {
   "cell_type": "code",
   "execution_count": 22,
   "metadata": {},
   "outputs": [
    {
     "name": "stdout",
     "output_type": "stream",
     "text": [
      "Accuracy of Decision Tree : 91.67%\n"
     ]
    }
   ],
   "source": [
    "DT_predict=model_Tree.predict(X_test)\n",
    "\n",
    "acc_DT=accuracy_score(y_test,DT_predict)\n",
    "acc_DT=round(acc_DT*100,2)\n",
    "print(f'Accuracy of Decision Tree : {acc_DT}%')"
   ]
  },
  {
   "cell_type": "code",
   "execution_count": 30,
   "metadata": {},
   "outputs": [
    {
     "name": "stdout",
     "output_type": "stream",
     "text": [
      "Confusion Matrix\n",
      "\n",
      "[[10  0  0]\n",
      " [ 0  1  0]\n",
      " [ 1  0  0]]\n",
      "\n",
      "Accuracy: 0.92\n",
      "\n",
      "Micro Precision: 0.92\n",
      "Micro Recall: 0.92\n",
      "Micro F1-score: 0.92\n",
      "\n",
      "Macro Precision: 0.64\n",
      "Macro Recall: 0.67\n",
      "Macro F1-score: 0.65\n",
      "\n",
      "Weighted Precision: 0.84\n",
      "Weighted Recall: 0.92\n",
      "Weighted F1-score: 0.88\n",
      "\n",
      "Classification Report\n",
      "\n",
      "              precision    recall  f1-score   support\n",
      "\n",
      "    Positive       0.91      1.00      0.95        10\n",
      "    Negative       1.00      1.00      1.00         1\n",
      "     Neutral       0.00      0.00      0.00         1\n",
      "\n",
      "    accuracy                           0.92        12\n",
      "   macro avg       0.64      0.67      0.65        12\n",
      "weighted avg       0.84      0.92      0.88        12\n",
      "\n"
     ]
    }
   ],
   "source": [
    "confusion = confusion_matrix(y_test, DT_predict)\n",
    "print('Confusion Matrix\\n')\n",
    "print(confusion)\n",
    "\n",
    "#importing accuracy_score, precision_score, recall_score, f1_score\n",
    "from sklearn.metrics import  precision_score, recall_score, f1_score\n",
    "print('\\nAccuracy: {:.2f}\\n'.format(accuracy_score(y_test, DT_predict)))\n",
    "\n",
    "print('Micro Precision: {:.2f}'.format(precision_score(y_test, DT_predict, average='micro')))\n",
    "print('Micro Recall: {:.2f}'.format(recall_score(y_test, DT_predict, average='micro')))\n",
    "print('Micro F1-score: {:.2f}\\n'.format(f1_score(y_test, DT_predict, average='micro')))\n",
    "\n",
    "print('Macro Precision: {:.2f}'.format(precision_score(y_test, DT_predict, average='macro')))\n",
    "print('Macro Recall: {:.2f}'.format(recall_score(y_test, DT_predict, average='macro')))\n",
    "print('Macro F1-score: {:.2f}\\n'.format(f1_score(y_test, DT_predict, average='macro')))\n",
    "\n",
    "print('Weighted Precision: {:.2f}'.format(precision_score(y_test, DT_predict, average='weighted')))\n",
    "print('Weighted Recall: {:.2f}'.format(recall_score(y_test, DT_predict, average='weighted')))\n",
    "print('Weighted F1-score: {:.2f}'.format(f1_score(y_test, DT_predict, average='weighted')))\n",
    "\n",
    "from sklearn.metrics import classification_report\n",
    "print('\\nClassification Report\\n')\n",
    "print(classification_report(y_test, DT_predict, target_names=['Positive', 'Negative', 'Neutral']))"
   ]
  },
  {
   "cell_type": "markdown",
   "metadata": {},
   "source": [
    "# Applying Random Forest"
   ]
  },
  {
   "cell_type": "code",
   "execution_count": 23,
   "metadata": {},
   "outputs": [
    {
     "data": {
      "text/plain": [
       "RandomForestClassifier(bootstrap=True, ccp_alpha=0.0, class_weight=None,\n",
       "                       criterion='gini', max_depth=None, max_features='auto',\n",
       "                       max_leaf_nodes=None, max_samples=None,\n",
       "                       min_impurity_decrease=0.0, min_impurity_split=None,\n",
       "                       min_samples_leaf=1, min_samples_split=2,\n",
       "                       min_weight_fraction_leaf=0.0, n_estimators=100,\n",
       "                       n_jobs=None, oob_score=False, random_state=None,\n",
       "                       verbose=0, warm_start=False)"
      ]
     },
     "execution_count": 23,
     "metadata": {},
     "output_type": "execute_result"
    }
   ],
   "source": [
    "from sklearn.ensemble import RandomForestClassifier\n",
    "\n",
    "text_classifier_RF = RandomForestClassifier()\n",
    "text_classifier_RF.fit(X_train, y_train)"
   ]
  },
  {
   "cell_type": "code",
   "execution_count": 24,
   "metadata": {},
   "outputs": [],
   "source": [
    "predictions_RF= text_classifier_RF.predict(X_test)"
   ]
  },
  {
   "cell_type": "code",
   "execution_count": 31,
   "metadata": {},
   "outputs": [
    {
     "name": "stdout",
     "output_type": "stream",
     "text": [
      "Accuracy of RF Model : 75.0%\n",
      "Confusion Matrix\n",
      "\n",
      "[[9 1 0]\n",
      " [1 0 0]\n",
      " [1 0 0]]\n",
      "\n",
      "Accuracy: 0.75\n",
      "\n",
      "Micro Precision: 0.75\n",
      "Micro Recall: 0.75\n",
      "Micro F1-score: 0.75\n",
      "\n",
      "Macro Precision: 0.27\n",
      "Macro Recall: 0.30\n",
      "Macro F1-score: 0.29\n",
      "\n",
      "Weighted Precision: 0.68\n",
      "Weighted Recall: 0.75\n",
      "Weighted F1-score: 0.71\n",
      "\n",
      "Classification Report\n",
      "\n",
      "              precision    recall  f1-score   support\n",
      "\n",
      "    Positive       0.82      0.90      0.86        10\n",
      "    Negative       0.00      0.00      0.00         1\n",
      "     Neutral       0.00      0.00      0.00         1\n",
      "\n",
      "    accuracy                           0.75        12\n",
      "   macro avg       0.27      0.30      0.29        12\n",
      "weighted avg       0.68      0.75      0.71        12\n",
      "\n"
     ]
    }
   ],
   "source": [
    "from sklearn.metrics import classification_report, confusion_matrix, accuracy_score\n",
    "accuracy_RF=accuracy_score(y_test,predictions_RF)\n",
    "accuracy_RF=round(accuracy_RF*100,2)\n",
    "print(f'Accuracy of RF Model : {accuracy_RF}%')\n",
    "confusion = confusion_matrix(y_test, predictions_RF)\n",
    "print('Confusion Matrix\\n')\n",
    "print(confusion)\n",
    "\n",
    "#importing accuracy_score, precision_score, recall_score, f1_score\n",
    "from sklearn.metrics import  precision_score, recall_score, f1_score\n",
    "print('\\nAccuracy: {:.2f}\\n'.format(accuracy_score(y_test, predictions_RF)))\n",
    "\n",
    "print('Micro Precision: {:.2f}'.format(precision_score(y_test, predictions_RF, average='micro')))\n",
    "print('Micro Recall: {:.2f}'.format(recall_score(y_test, predictions_RF, average='micro')))\n",
    "print('Micro F1-score: {:.2f}\\n'.format(f1_score(y_test, predictions_RF, average='micro')))\n",
    "\n",
    "print('Macro Precision: {:.2f}'.format(precision_score(y_test, predictions_RF, average='macro')))\n",
    "print('Macro Recall: {:.2f}'.format(recall_score(y_test, predictions_RF, average='macro')))\n",
    "print('Macro F1-score: {:.2f}\\n'.format(f1_score(y_test, predictions_RF, average='macro')))\n",
    "\n",
    "print('Weighted Precision: {:.2f}'.format(precision_score(y_test, predictions_RF, average='weighted')))\n",
    "print('Weighted Recall: {:.2f}'.format(recall_score(y_test, predictions_RF, average='weighted')))\n",
    "print('Weighted F1-score: {:.2f}'.format(f1_score(y_test, predictions_RF, average='weighted')))\n",
    "\n",
    "from sklearn.metrics import classification_report\n",
    "print('\\nClassification Report\\n')\n",
    "print(classification_report(y_test, predictions_RF, target_names=['Positive', 'Negative', 'Neutral']))"
   ]
  },
  {
   "cell_type": "code",
   "execution_count": null,
   "metadata": {},
   "outputs": [],
   "source": []
  }
 ],
 "metadata": {
  "kernelspec": {
   "display_name": "Python 3",
   "language": "python",
   "name": "python3"
  },
  "language_info": {
   "codemirror_mode": {
    "name": "ipython",
    "version": 3
   },
   "file_extension": ".py",
   "mimetype": "text/x-python",
   "name": "python",
   "nbconvert_exporter": "python",
   "pygments_lexer": "ipython3",
   "version": "3.7.6"
  }
 },
 "nbformat": 4,
 "nbformat_minor": 4
}
